{
 "cells": [
  {
   "cell_type": "markdown",
   "metadata": {},
   "source": [
    "# Tree Fun Notebook"
   ]
  },
  {
   "cell_type": "markdown",
   "metadata": {},
   "source": [
    "## Developed by CA"
   ]
  },
  {
   "cell_type": "code",
   "execution_count": null,
   "metadata": {},
   "outputs": [],
   "source": [
    "# This notebook is used as an introduction to Python's basic libraries and functions"
   ]
  },
  {
   "cell_type": "code",
   "execution_count": 4,
   "metadata": {},
   "outputs": [
    {
     "name": "stdout",
     "output_type": "stream",
     "text": [
      "Hi guys!\n",
      "Welcome to the tree fun notebook.\n"
     ]
    }
   ],
   "source": [
    "# Use the print function to display text\n",
    "print(\"Hi guys!\")\n",
    "print(\"Welcome to the tree fun notebook.\")"
   ]
  },
  {
   "cell_type": "code",
   "execution_count": 17,
   "metadata": {},
   "outputs": [
    {
     "name": "stdout",
     "output_type": "stream",
     "text": [
      "Trees are woody perennial plants with a single main stem.\n"
     ]
    }
   ],
   "source": [
    "# Define a function to print the input\n",
    "def printme(str):\n",
    "    print(str)\n",
    "    return\n",
    "\n",
    "printme(\"Trees are woody perennial plants with a single main stem.\")"
   ]
  },
  {
   "cell_type": "code",
   "execution_count": 16,
   "metadata": {},
   "outputs": [
    {
     "name": "stdout",
     "output_type": "stream",
     "text": [
      "In 2012, trees covered 767 million acres in the US.\n"
     ]
    }
   ],
   "source": [
    "# Define a function to sum 3 numbers\n",
    "# The forest land coverage in 2012 in the US, in millions of acres, can be obtained by\n",
    "# summing the regional North, South, and West coverages\n",
    "def treesum(w, x, y):\n",
    "    # w is the land cover, in millions of acres, for the Northern Region\n",
    "    # x is the land cover, in millions of acres, for the Southern Region\n",
    "    # y is the land cover, in millions of acres, for the Western Region\n",
    "    z = w + x + y\n",
    "    # z is the total forest land coverage in the U.S., in millions of acres\n",
    "    treecover = (\"In 2012, trees covered \" + str(z) + \" million acres in the US.\")\n",
    "    return treecover;\n",
    "\n",
    "print(treesum(176, 245, 346))"
   ]
  },
  {
   "cell_type": "code",
   "execution_count": 20,
   "metadata": {},
   "outputs": [],
   "source": [
    "# Let's count some trees\n",
    "# Which number are we at?\n",
    "def numba(n):\n",
    "    for x in range(0, n):\n",
    "        print(\"We're at number \" + str(x)+ \".\")"
   ]
  },
  {
   "cell_type": "code",
   "execution_count": 21,
   "metadata": {},
   "outputs": [
    {
     "name": "stdout",
     "output_type": "stream",
     "text": [
      "We're at number 0.\n",
      "We're at number 1.\n",
      "We're at number 2.\n"
     ]
    }
   ],
   "source": [
    "numba(3)"
   ]
  },
  {
   "cell_type": "code",
   "execution_count": 24,
   "metadata": {},
   "outputs": [],
   "source": [
    "# Let's grow some trees\n",
    "# What are your favorite types of trees?\n",
    "treelist = [\"fir\", \"elm\", \"maple\", \"pine\", \"aspen\", \"oak\"]\n",
    "def treegen(n):\n",
    "    for x in range (0,n):\n",
    "        print (treelist[x])"
   ]
  },
  {
   "cell_type": "code",
   "execution_count": 25,
   "metadata": {},
   "outputs": [
    {
     "name": "stdout",
     "output_type": "stream",
     "text": [
      "fir\n",
      "elm\n",
      "maple\n",
      "pine\n",
      "aspen\n"
     ]
    }
   ],
   "source": [
    "treegen(5)"
   ]
  },
  {
   "cell_type": "code",
   "execution_count": 27,
   "metadata": {},
   "outputs": [
    {
     "name": "stdout",
     "output_type": "stream",
     "text": [
      "aspen\n"
     ]
    }
   ],
   "source": [
    "# Let's randomly pick a tree from our list\n",
    "import random\n",
    "print(random.choice(treelist))"
   ]
  },
  {
   "cell_type": "code",
   "execution_count": 106,
   "metadata": {},
   "outputs": [],
   "source": [
    "# Quick! I need a visual of a tree...\n",
    "from PIL import Image\n",
    "\n",
    "def opensesame(image):\n",
    "    myImage = Image.open(image);\n",
    "    myImage.show();\n",
    "    \n",
    "image = 'aspen.jpg'\n",
    "opensesame(image)"
   ]
  },
  {
   "cell_type": "code",
   "execution_count": 116,
   "metadata": {},
   "outputs": [
    {
     "data": {
      "text/html": [
       "<div>\n",
       "<style scoped>\n",
       "    .dataframe tbody tr th:only-of-type {\n",
       "        vertical-align: middle;\n",
       "    }\n",
       "\n",
       "    .dataframe tbody tr th {\n",
       "        vertical-align: top;\n",
       "    }\n",
       "\n",
       "    .dataframe thead th {\n",
       "        text-align: right;\n",
       "    }\n",
       "</style>\n",
       "<table border=\"1\" class=\"dataframe\">\n",
       "  <thead>\n",
       "    <tr style=\"text-align: right;\">\n",
       "      <th></th>\n",
       "      <th>Name</th>\n",
       "      <th>Fact</th>\n",
       "      <th>Pic</th>\n",
       "    </tr>\n",
       "  </thead>\n",
       "  <tbody>\n",
       "    <tr>\n",
       "      <th>0</th>\n",
       "      <td>fir</td>\n",
       "      <td>Some noble firs live to be 700 years old!</td>\n",
       "      <td>douglas_fir.jpg</td>\n",
       "    </tr>\n",
       "    <tr>\n",
       "      <th>1</th>\n",
       "      <td>elm</td>\n",
       "      <td>The American elm has experienced a rapid decli...</td>\n",
       "      <td>american-elm-2.jpg</td>\n",
       "    </tr>\n",
       "    <tr>\n",
       "      <th>2</th>\n",
       "      <td>maple</td>\n",
       "      <td>The genus of maple trees is \"Acer.\"</td>\n",
       "      <td>sugar_maple.jpg</td>\n",
       "    </tr>\n",
       "    <tr>\n",
       "      <th>3</th>\n",
       "      <td>pine</td>\n",
       "      <td>Pine trees are the most common conifers, with ...</td>\n",
       "      <td>python.jpg</td>\n",
       "    </tr>\n",
       "    <tr>\n",
       "      <th>4</th>\n",
       "      <td>aspen</td>\n",
       "      <td>Aspens are the principle food of beavers.</td>\n",
       "      <td>aspen.jpg</td>\n",
       "    </tr>\n",
       "    <tr>\n",
       "      <th>5</th>\n",
       "      <td>oak</td>\n",
       "      <td>Oak trees can reach 70 feet in height and 9 fe...</td>\n",
       "      <td>angel-oak-tree-3.jpg</td>\n",
       "    </tr>\n",
       "  </tbody>\n",
       "</table>\n",
       "</div>"
      ],
      "text/plain": [
       "    Name                                               Fact  \\\n",
       "0    fir          Some noble firs live to be 700 years old!   \n",
       "1    elm  The American elm has experienced a rapid decli...   \n",
       "2  maple                The genus of maple trees is \"Acer.\"   \n",
       "3   pine  Pine trees are the most common conifers, with ...   \n",
       "4  aspen          Aspens are the principle food of beavers.   \n",
       "5    oak  Oak trees can reach 70 feet in height and 9 fe...   \n",
       "\n",
       "                    Pic  \n",
       "0       douglas_fir.jpg  \n",
       "1    american-elm-2.jpg  \n",
       "2       sugar_maple.jpg  \n",
       "3            python.jpg  \n",
       "4             aspen.jpg  \n",
       "5  angel-oak-tree-3.jpg  "
      ]
     },
     "execution_count": 116,
     "metadata": {},
     "output_type": "execute_result"
    }
   ],
   "source": [
    "# Let's generate a dataframe with tree names, facts, and pictures\n",
    "import pandas as pd\n",
    "df = pd.DataFrame(data={'Name': [\"fir\", \"elm\", \"maple\", \"pine\", \"aspen\", \"oak\"],\n",
    "                        'Fact': ['Some noble firs live to be 700 years old!', \n",
    "                                 'The American elm has experienced a rapid decline due to Dutch elm disease.',\n",
    "                                'The genus of maple trees is \"Acer.\"',\n",
    "                                'Pine trees are the most common conifers, with over 100 species worldwide.',\n",
    "                                'Aspens are the principle food of beavers.',\n",
    "                                'Oak trees can reach 70 feet in height and 9 feet in width!'],\n",
    "                        'Pic': ['douglas_fir.jpg', 'american-elm-2.jpg','sugar_maple.jpg', 'python.jpg',\n",
    "                                'aspen.jpg','angel-oak-tree-3.jpg']})\n",
    "df"
   ]
  },
  {
   "cell_type": "code",
   "execution_count": 109,
   "metadata": {},
   "outputs": [
    {
     "name": "stdout",
     "output_type": "stream",
     "text": [
      "aspen\n"
     ]
    }
   ],
   "source": [
    "# Let's randomly select a tree name from the dataframe\n",
    "rand = random.choice(df.Name)\n",
    "print(rand)"
   ]
  },
  {
   "cell_type": "code",
   "execution_count": 110,
   "metadata": {},
   "outputs": [
    {
     "data": {
      "text/html": [
       "<div>\n",
       "<style scoped>\n",
       "    .dataframe tbody tr th:only-of-type {\n",
       "        vertical-align: middle;\n",
       "    }\n",
       "\n",
       "    .dataframe tbody tr th {\n",
       "        vertical-align: top;\n",
       "    }\n",
       "\n",
       "    .dataframe thead th {\n",
       "        text-align: right;\n",
       "    }\n",
       "</style>\n",
       "<table border=\"1\" class=\"dataframe\">\n",
       "  <thead>\n",
       "    <tr style=\"text-align: right;\">\n",
       "      <th></th>\n",
       "      <th>Name</th>\n",
       "      <th>Fact</th>\n",
       "      <th>Pic</th>\n",
       "    </tr>\n",
       "  </thead>\n",
       "  <tbody>\n",
       "    <tr>\n",
       "      <th>4</th>\n",
       "      <td>aspen</td>\n",
       "      <td>Aspens are the principle food of beavers</td>\n",
       "      <td>aspen.jpg</td>\n",
       "    </tr>\n",
       "  </tbody>\n",
       "</table>\n",
       "</div>"
      ],
      "text/plain": [
       "    Name                                      Fact        Pic\n",
       "4  aspen  Aspens are the principle food of beavers  aspen.jpg"
      ]
     },
     "execution_count": 110,
     "metadata": {},
     "output_type": "execute_result"
    }
   ],
   "source": [
    "# Select the row corresponding to the random entry\n",
    "selection = df.loc[df['Name'] == str(rand)]\n",
    "selection"
   ]
  },
  {
   "cell_type": "code",
   "execution_count": 39,
   "metadata": {},
   "outputs": [
    {
     "data": {
      "text/plain": [
       "(6, 3)"
      ]
     },
     "execution_count": 39,
     "metadata": {},
     "output_type": "execute_result"
    }
   ],
   "source": [
    "# Display the shape of the dataframe\n",
    "df.shape"
   ]
  },
  {
   "cell_type": "code",
   "execution_count": 40,
   "metadata": {},
   "outputs": [
    {
     "name": "stdout",
     "output_type": "stream",
     "text": [
      "<class 'pandas.core.frame.DataFrame'>\n",
      "RangeIndex: 6 entries, 0 to 5\n",
      "Data columns (total 3 columns):\n",
      "Name    6 non-null object\n",
      "Fact    6 non-null object\n",
      "Pic     6 non-null object\n",
      "dtypes: object(3)\n",
      "memory usage: 224.0+ bytes\n"
     ]
    }
   ],
   "source": [
    "# Display the information about the dataframe\n",
    "df.info()"
   ]
  },
  {
   "cell_type": "code",
   "execution_count": 119,
   "metadata": {},
   "outputs": [],
   "source": [
    "# Let's randomly generate a tree picture!\n",
    "\n",
    "def treefun():\n",
    "    #Start by grabbing the length of the dataframe\n",
    "    x = len(df.index)\n",
    "    #print(x)\n",
    "\n",
    "    #Next, create an array 0 to n based on that length\n",
    "    a = range(x)\n",
    "    #print(a)\n",
    "\n",
    "    #Then, randomly select an index value\n",
    "    r = random.choice(a)\n",
    "    #print(r)\n",
    "\n",
    "    #Pull that entry from the dataframe\n",
    "    pic = df.iloc[r]['Pic']\n",
    "    #print(pic)\n",
    "\n",
    "    #Print the fun fact!\n",
    "    fact = df.iloc[r]['Fact']\n",
    "    print(\"Did you know...\")\n",
    "    print(fact)\n",
    "\n",
    "    #And, finally, open up the picture!\n",
    "    opensesame(pic)"
   ]
  },
  {
   "cell_type": "code",
   "execution_count": 132,
   "metadata": {},
   "outputs": [
    {
     "name": "stdout",
     "output_type": "stream",
     "text": [
      "Did you know...\n",
      "Pine trees are the most common conifers, with over 100 species worldwide.\n"
     ]
    }
   ],
   "source": [
    "# Have fun with trees!\n",
    "treefun()"
   ]
  },
  {
   "cell_type": "code",
   "execution_count": 126,
   "metadata": {},
   "outputs": [],
   "source": [
    "#"
   ]
  }
 ],
 "metadata": {
  "kernelspec": {
   "display_name": "Python 3",
   "language": "python",
   "name": "python3"
  },
  "language_info": {
   "codemirror_mode": {
    "name": "ipython",
    "version": 3
   },
   "file_extension": ".py",
   "mimetype": "text/x-python",
   "name": "python",
   "nbconvert_exporter": "python",
   "pygments_lexer": "ipython3",
   "version": "3.7.3"
  }
 },
 "nbformat": 4,
 "nbformat_minor": 2
}
